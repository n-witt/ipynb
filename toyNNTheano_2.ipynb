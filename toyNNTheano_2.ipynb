{
 "cells": [
  {
   "cell_type": "code",
   "execution_count": 1,
   "metadata": {
    "collapsed": false
   },
   "outputs": [
    {
     "name": "stdout",
     "output_type": "stream",
     "text": [
      "finished\n"
     ]
    },
    {
     "name": "stderr",
     "output_type": "stream",
     "text": [
      "Using gpu device 0: GeForce GTX 560 Ti\n"
     ]
    }
   ],
   "source": [
    "import numpy as np\n",
    "import theano\n",
    "import theano.tensor as T\n",
    "\n",
    "# hyperparameter\n",
    "learningRate = .1\n",
    "learningSteps = 100000\n",
    "\n",
    "# input dataset\n",
    "X = np.array([  [0,0,1],\n",
    "                [0,1,1],\n",
    "                [1,0,1],\n",
    "                [1,1,1] ])\n",
    "    \n",
    "# output dataset            \n",
    "Y = np.array([[0,1,1,0]]).T\n",
    "\n",
    "# seed random numbers to make calculation\n",
    "# deterministic (just a good practice)\n",
    "np.random.seed(1)\n",
    "\n",
    "# initialize weights randomly with mean 0\n",
    "w1 = theano.shared(2 * np.random.random((X.shape[1], Y.shape[1])) - 1, 'w1')\n",
    "\n",
    "# define sigmoid and error function\n",
    "x = T.matrix('x', dtype=theano.config.floatX)\n",
    "y = T.matrix('y', dtype=theano.config.floatX)\n",
    "\n",
    "ff1_2 = 1 / (1 + T.exp(-T.dot(x, w1)))\n",
    "err =  T.sum(ff - y)\n",
    "err = T.sum(T.pow(ff - y, 2))/(2*X.shape[0])\n",
    "w1_grad = T.grad(err, w1)\n",
    "\n",
    "predict = theano.function([x], ff, allow_input_downcast=True)\n",
    "train = theano.function([x, y], err, updates=[(w1, w1 - learningRate * w1_grad)], allow_input_downcast=True)\n",
    "\n",
    "# learning process\n",
    "for iter in xrange(learningSteps):\n",
    "    train(X, Y)\n",
    "print u'finished'\n"
   ]
  }
 ],
 "metadata": {
  "kernelspec": {
   "display_name": "Python 2",
   "language": "python",
   "name": "python2"
  },
  "language_info": {
   "codemirror_mode": {
    "name": "ipython",
    "version": 2
   },
   "file_extension": ".py",
   "mimetype": "text/x-python",
   "name": "python",
   "nbconvert_exporter": "python",
   "pygments_lexer": "ipython2",
   "version": "2.7.6"
  }
 },
 "nbformat": 4,
 "nbformat_minor": 0
}
