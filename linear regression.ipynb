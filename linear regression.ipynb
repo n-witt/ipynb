{
 "cells": [
  {
   "cell_type": "code",
   "execution_count": 81,
   "metadata": {
    "collapsed": false
   },
   "outputs": [
    {
     "name": "stdout",
     "output_type": "stream",
     "text": [
      "Populating the interactive namespace from numpy and matplotlib\n"
     ]
    },
    {
     "name": "stderr",
     "output_type": "stream",
     "text": [
      "WARNING: pylab import has clobbered these variables: ['test']\n",
      "`%matplotlib` prevents importing * from pylab and numpy\n"
     ]
    },
    {
     "data": {
      "image/png": "[encoded data removed]",
      "text/plain": [
       "<matplotlib.figure.Figure at 0x7f48389eafd0>"
      ]
     },
     "metadata": {},
     "output_type": "display_data"
    },
    {
     "name": "stdout",
     "output_type": "stream",
     "text": [
      "f(x) = x * 5.62538295521 + 2.04391869538 \n"
     ]
    }
   ],
   "source": [
    "%pylab inline\n",
    "import numpy as np\n",
    "import matplotlib.pyplot as plt\n",
    "import theano\n",
    "import theano.tensor as T\n",
    "\n",
    "# generate data\n",
    "numSamples = 100\n",
    "learning_rate = 0.01\n",
    "training_steps = 10\n",
    "\n",
    "X = (np.random.randn(1, numSamples) + 5)[0]\n",
    "X = np.sort(X)\n",
    "Y = ((X * 4) + 12) + (6 * np.random.randn(1, numSamples)[0])\n",
    "\n",
    "# setting theano variables up\n",
    "x = T.vector('x')\n",
    "y = T.vector('y')\n",
    "m = theano.shared(0.5, name = \"m\")\n",
    "c = theano.shared(1.0, name = \"c\")\n",
    "\n",
    "# define cost function\n",
    "predict = T.dot(x, m) + c\n",
    "cost = T.sum(T.pow(predict - y, 2))/(2*numSamples)\n",
    "\n",
    "# gradient descent\n",
    "gradm = T.grad(cost, m)\n",
    "gradc = T.grad(cost, c)\n",
    "\n",
    "# train and cost function\n",
    "train = theano.function([x, y], cost, updates = [(m, m - learning_rate * gradm), (c, c - learning_rate * gradc)])\n",
    "test = theano.function([x], predict)\n",
    "\n",
    "# training\n",
    "for i in range(training_steps):\n",
    "    train(X, Y)\n",
    "\n",
    "a = np.linspace(0, 10, 10)\n",
    "b = test(a)\n",
    "    \n",
    "# plot data\n",
    "plt.scatter(X, Y)\n",
    "plt.plot(a, b)\n",
    "plt.show()\n",
    "\n",
    "print \"f(x) = x * {} + {} \".format(m.get_value(), c.get_value())"
   ]
  },
  {
   "cell_type": "code",
   "execution_count": 79,
   "metadata": {
    "collapsed": false
   },
   "outputs": [
    {
     "data": {
      "text/plain": [
       "array([ 24.62555929,  18.98024271,  50.02948389])"
      ]
     },
     "execution_count": 79,
     "metadata": {},
     "output_type": "execute_result"
    }
   ],
   "source": [
    "test([4, 3, 8.5])"
   ]
  }
 ],
 "metadata": {
  "kernelspec": {
   "display_name": "Python 2",
   "language": "python",
   "name": "python2"
  },
  "language_info": {
   "codemirror_mode": {
    "name": "ipython",
    "version": 2
   },
   "file_extension": ".py",
   "mimetype": "text/x-python",
   "name": "python",
   "nbconvert_exporter": "python",
   "pygments_lexer": "ipython2",
   "version": "2.7.10"
  }
 },
 "nbformat": 4,
 "nbformat_minor": 0
}
