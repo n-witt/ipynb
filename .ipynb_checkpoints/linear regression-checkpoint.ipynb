{
 "cells": [
  {
   "cell_type": "code",
   "execution_count": 72,
   "metadata": {
    "collapsed": false
   },
   "outputs": [
    {
     "name": "stdout",
     "output_type": "stream",
     "text": [
      "Populating the interactive namespace from numpy and matplotlib\n"
     ]
    },
    {
     "name": "stderr",
     "output_type": "stream",
     "text": [
      "WARNING: pylab import has clobbered these variables: ['test']\n",
      "`%matplotlib` prevents importing * from pylab and numpy\n"
     ]
    },
    {
     "data": {
      "image/png": "[encoded data removed]",
      "text/plain": [
       "<matplotlib.figure.Figure at 0x7f4838d99690>"
      ]
     },
     "metadata": {},
     "output_type": "display_data"
    }
   ],
   "source": [
    "%pylab inline\n",
    "import numpy as np\n",
    "import matplotlib.pyplot as plt\n",
    "import theano\n",
    "import theano.tensor as T\n",
    "\n",
    "# generate data\n",
    "numSamples = 100\n",
    "learning_rate = 0.01\n",
    "training_steps = 10\n",
    "\n",
    "X = (np.random.randn(1, numSamples) + 5)[0]\n",
    "X = np.sort(X)\n",
    "Y = ((X * 4) + 12) + (6 * np.random.randn(1, numSamples)[0])\n",
    "\n",
    "# setting theano variables up\n",
    "x = T.vector('x')\n",
    "y = T.vector('y')\n",
    "m = theano.shared(0.5, name = \"m\")\n",
    "c = theano.shared(1.0, name = \"c\")\n",
    "\n",
    "# define cost function\n",
    "predict = T.dot(x, m) + c\n",
    "cost = T.sum(T.pow(predict - y, 2))/(2*numSamples)\n",
    "\n",
    "# gradient descent\n",
    "gradm = T.grad(cost, m)\n",
    "gradc = T.grad(cost, c)\n",
    "\n",
    "train = theano.function([x, y], cost, updates = [(m, m - learning_rate * gradm), (c, c - learning_rate * gradc)])\n",
    "test = theano.function([x], predict)\n",
    "\n",
    "# training\n",
    "for i in range(training_steps):\n",
    "    train(X, Y)\n",
    "\n",
    "a = np.linspace(0, 10, 10)\n",
    "b = test(a)\n",
    "    \n",
    "# plot data\n",
    "plt.scatter(X, Y)\n",
    "plt.plot(a, b)\n",
    "plt.show()"
   ]
  },
  {
   "cell_type": "code",
   "execution_count": 55,
   "metadata": {
    "collapsed": false
   },
   "outputs": [
    {
     "data": {
      "text/plain": [
       "theano.tensor.sharedvar.ScalarSharedVariable"
      ]
     },
     "execution_count": 55,
     "metadata": {},
     "output_type": "execute_result"
    }
   ],
   "source": [
    "type(m)"
   ]
  }
 ],
 "metadata": {
  "kernelspec": {
   "display_name": "Python 2",
   "language": "python",
   "name": "python2"
  },
  "language_info": {
   "codemirror_mode": {
    "name": "ipython",
    "version": 2
   },
   "file_extension": ".py",
   "mimetype": "text/x-python",
   "name": "python",
   "nbconvert_exporter": "python",
   "pygments_lexer": "ipython2",
   "version": "2.7.10"
  }
 },
 "nbformat": 4,
 "nbformat_minor": 0
}
