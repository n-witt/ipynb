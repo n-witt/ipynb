{
 "cells": [
  {
   "cell_type": "code",
   "execution_count": null,
   "metadata": {
    "collapsed": false
   },
   "outputs": [],
   "source": [
    "import numpy as np\n",
    "import theano\n",
    "import theano.tensor as T\n",
    "import itertools\n",
    "import time\n",
    "\n",
    "def binFunc(v):\n",
    "    return [(v[0] and v[1] and v[4]) or (v[4] and v[6] and v[2] and v[7]) or (v[1] and v[3] and v[4]) or (v[2] and v[5] and v[6] and v[7])]\n",
    "\n",
    "# hyperparameter\n",
    "learningRate = .1\n",
    "learningSteps = 50000\n",
    "\n",
    "# input dataset\n",
    "\n",
    "X = np.array([i for i in itertools.product([0,1], repeat=8)])\n",
    "    \n",
    "# output dataset\n",
    "Y = np.array([binFunc(v) for v in X])\n",
    "# seed random numbers to make calculation\n",
    "# deterministic (just a good practice)\n",
    "np.random.seed(1)\n",
    "\n",
    "# initialize weights randomly with mean 0\n",
    "w1 = theano.shared(2 * np.random.random((X.shape[1], 10)) - 1, 'w1')\n",
    "w2 = theano.shared(2 * np.random.random((10, 1)) - 1, 'w2')\n",
    "\n",
    "# define sigmoid and error function\n",
    "x = T.matrix('x', dtype=theano.config.floatX)\n",
    "y = T.matrix('y', dtype=theano.config.floatX)\n",
    "\n",
    "ff_i_h = 1 / (1 + T.exp(-T.dot(x, w1)))\n",
    "ff = 1 / (1 + T.exp(-T.dot(ff_i_h, w2)))\n",
    "\n",
    "err =  T.sum(ff - y)\n",
    "err = T.sum(T.pow(ff - y, 2))/(2 * X.shape[0])\n",
    "w1_grad = T.grad(err, w1)\n",
    "w2_grad = T.grad(err, w2)\n",
    "\n",
    "predict = theano.function([x], ff, allow_input_downcast=True)\n",
    "train = theano.function([x, y], err, updates=[(w1, w1 - learningRate * w1_grad), (w2, w2 - learningRate * w2_grad)], allow_input_downcast=True)\n",
    "\n",
    "# learning process\n",
    "t0 = time.time()\n",
    "for iter in xrange(learningSteps):\n",
    "    train(X, Y)\n",
    "print u'finished'\n",
    "t1 = time.time()\n",
    "\n",
    "res = []\n",
    "for g, v in zip(predict(X), Y):\n",
    "    if (v == 1 and g >= .5) or (v == 0 and g < .5):\n",
    "        res.append(1)\n",
    "    else:\n",
    "        res.append(0)\n",
    "res = np.array(res)\n",
    "\n",
    "print(u'win rate: {}. Took: {}s. device: {}'.format(np.where(res > 0)[0].__len__()/float(X.shape[0]), t1-t0, theano.config.device))\n"
   ]
  }
 ],
 "metadata": {
  "kernelspec": {
   "display_name": "Python 2",
   "language": "python",
   "name": "python2"
  },
  "language_info": {
   "codemirror_mode": {
    "name": "ipython",
    "version": 2
   },
   "file_extension": ".py",
   "mimetype": "text/x-python",
   "name": "python",
   "nbconvert_exporter": "python",
   "pygments_lexer": "ipython2",
   "version": "2.7.6"
  }
 },
 "nbformat": 4,
 "nbformat_minor": 0
}
